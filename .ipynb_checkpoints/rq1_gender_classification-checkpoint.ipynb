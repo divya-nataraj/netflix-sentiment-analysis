{
 "cells": [
  {
   "cell_type": "code",
   "execution_count": 10,
   "metadata": {},
   "outputs": [],
   "source": [
    "import pandas as pd\n",
    "import numpy as np\n",
    "import nltk\n",
    "from nltk.corpus import names\n",
    "import sklearn\n",
    "import seaborn as sns"
   ]
  },
  {
   "cell_type": "markdown",
   "metadata": {},
   "source": [
    "### Training a Naive Bayes Classifier to classify gender of names"
   ]
  },
  {
   "cell_type": "code",
   "execution_count": 11,
   "metadata": {},
   "outputs": [],
   "source": [
    "def gender_features(word):\n",
    "    return {'suffix1': word[-1:],\n",
    "            'suffix2': word[-2:]}"
   ]
  },
  {
   "cell_type": "code",
   "execution_count": 12,
   "metadata": {},
   "outputs": [
    {
     "ename": "LookupError",
     "evalue": "\n**********************************************************************\n  Resource \u001b[93mnames\u001b[0m not found.\n  Please use the NLTK Downloader to obtain the resource:\n\n  \u001b[31m>>> import nltk\n  >>> nltk.download('names')\n  \u001b[0m\n  For more information see: https://www.nltk.org/data.html\n\n  Attempted to load \u001b[93mcorpora/names\u001b[0m\n\n  Searched in:\n    - 'C:\\\\Users\\\\judyr/nltk_data'\n    - 'C:\\\\Users\\\\judyr\\\\anaconda3\\\\nltk_data'\n    - 'C:\\\\Users\\\\judyr\\\\anaconda3\\\\share\\\\nltk_data'\n    - 'C:\\\\Users\\\\judyr\\\\anaconda3\\\\lib\\\\nltk_data'\n    - 'C:\\\\Users\\\\judyr\\\\AppData\\\\Roaming\\\\nltk_data'\n    - 'C:\\\\nltk_data'\n    - 'D:\\\\nltk_data'\n    - 'E:\\\\nltk_data'\n**********************************************************************\n",
     "output_type": "error",
     "traceback": [
      "\u001b[1;31m---------------------------------------------------------------------------\u001b[0m",
      "\u001b[1;31mLookupError\u001b[0m                               Traceback (most recent call last)",
      "File \u001b[1;32m~\\anaconda3\\lib\\site-packages\\nltk\\corpus\\util.py:84\u001b[0m, in \u001b[0;36mLazyCorpusLoader.__load\u001b[1;34m(self)\u001b[0m\n\u001b[0;32m     83\u001b[0m \u001b[38;5;28;01mtry\u001b[39;00m:\n\u001b[1;32m---> 84\u001b[0m     root \u001b[38;5;241m=\u001b[39m \u001b[43mnltk\u001b[49m\u001b[38;5;241;43m.\u001b[39;49m\u001b[43mdata\u001b[49m\u001b[38;5;241;43m.\u001b[39;49m\u001b[43mfind\u001b[49m\u001b[43m(\u001b[49m\u001b[38;5;124;43mf\u001b[39;49m\u001b[38;5;124;43m\"\u001b[39;49m\u001b[38;5;132;43;01m{\u001b[39;49;00m\u001b[38;5;28;43mself\u001b[39;49m\u001b[38;5;241;43m.\u001b[39;49m\u001b[43msubdir\u001b[49m\u001b[38;5;132;43;01m}\u001b[39;49;00m\u001b[38;5;124;43m/\u001b[39;49m\u001b[38;5;132;43;01m{\u001b[39;49;00m\u001b[43mzip_name\u001b[49m\u001b[38;5;132;43;01m}\u001b[39;49;00m\u001b[38;5;124;43m\"\u001b[39;49m\u001b[43m)\u001b[49m\n\u001b[0;32m     85\u001b[0m \u001b[38;5;28;01mexcept\u001b[39;00m \u001b[38;5;167;01mLookupError\u001b[39;00m:\n",
      "File \u001b[1;32m~\\anaconda3\\lib\\site-packages\\nltk\\data.py:583\u001b[0m, in \u001b[0;36mfind\u001b[1;34m(resource_name, paths)\u001b[0m\n\u001b[0;32m    582\u001b[0m resource_not_found \u001b[38;5;241m=\u001b[39m \u001b[38;5;124mf\u001b[39m\u001b[38;5;124m\"\u001b[39m\u001b[38;5;130;01m\\n\u001b[39;00m\u001b[38;5;132;01m{\u001b[39;00msep\u001b[38;5;132;01m}\u001b[39;00m\u001b[38;5;130;01m\\n\u001b[39;00m\u001b[38;5;132;01m{\u001b[39;00mmsg\u001b[38;5;132;01m}\u001b[39;00m\u001b[38;5;130;01m\\n\u001b[39;00m\u001b[38;5;132;01m{\u001b[39;00msep\u001b[38;5;132;01m}\u001b[39;00m\u001b[38;5;130;01m\\n\u001b[39;00m\u001b[38;5;124m\"\u001b[39m\n\u001b[1;32m--> 583\u001b[0m \u001b[38;5;28;01mraise\u001b[39;00m \u001b[38;5;167;01mLookupError\u001b[39;00m(resource_not_found)\n",
      "\u001b[1;31mLookupError\u001b[0m: \n**********************************************************************\n  Resource \u001b[93mnames\u001b[0m not found.\n  Please use the NLTK Downloader to obtain the resource:\n\n  \u001b[31m>>> import nltk\n  >>> nltk.download('names')\n  \u001b[0m\n  For more information see: https://www.nltk.org/data.html\n\n  Attempted to load \u001b[93mcorpora/names.zip/names/\u001b[0m\n\n  Searched in:\n    - 'C:\\\\Users\\\\judyr/nltk_data'\n    - 'C:\\\\Users\\\\judyr\\\\anaconda3\\\\nltk_data'\n    - 'C:\\\\Users\\\\judyr\\\\anaconda3\\\\share\\\\nltk_data'\n    - 'C:\\\\Users\\\\judyr\\\\anaconda3\\\\lib\\\\nltk_data'\n    - 'C:\\\\Users\\\\judyr\\\\AppData\\\\Roaming\\\\nltk_data'\n    - 'C:\\\\nltk_data'\n    - 'D:\\\\nltk_data'\n    - 'E:\\\\nltk_data'\n**********************************************************************\n",
      "\nDuring handling of the above exception, another exception occurred:\n",
      "\u001b[1;31mLookupError\u001b[0m                               Traceback (most recent call last)",
      "Input \u001b[1;32mIn [12]\u001b[0m, in \u001b[0;36m<cell line: 2>\u001b[1;34m()\u001b[0m\n\u001b[0;32m      1\u001b[0m \u001b[38;5;28;01mimport\u001b[39;00m \u001b[38;5;21;01mrandom\u001b[39;00m\n\u001b[1;32m----> 2\u001b[0m labeled_names \u001b[38;5;241m=\u001b[39m ([(name, \u001b[38;5;124m'\u001b[39m\u001b[38;5;124mmale\u001b[39m\u001b[38;5;124m'\u001b[39m) \u001b[38;5;28;01mfor\u001b[39;00m name \u001b[38;5;129;01min\u001b[39;00m \u001b[43mnames\u001b[49m\u001b[38;5;241;43m.\u001b[39;49m\u001b[43mwords\u001b[49m(\u001b[38;5;124m'\u001b[39m\u001b[38;5;124mmale.txt\u001b[39m\u001b[38;5;124m'\u001b[39m)]\u001b[38;5;241m+\u001b[39m\n\u001b[0;32m      3\u001b[0m              [(name, \u001b[38;5;124m'\u001b[39m\u001b[38;5;124mfemale\u001b[39m\u001b[38;5;124m'\u001b[39m) \u001b[38;5;28;01mfor\u001b[39;00m name \u001b[38;5;129;01min\u001b[39;00m names\u001b[38;5;241m.\u001b[39mwords(\u001b[38;5;124m'\u001b[39m\u001b[38;5;124mfemale.txt\u001b[39m\u001b[38;5;124m'\u001b[39m)])\n\u001b[0;32m      4\u001b[0m random\u001b[38;5;241m.\u001b[39mshuffle(labeled_names)\n",
      "File \u001b[1;32m~\\anaconda3\\lib\\site-packages\\nltk\\corpus\\util.py:121\u001b[0m, in \u001b[0;36mLazyCorpusLoader.__getattr__\u001b[1;34m(self, attr)\u001b[0m\n\u001b[0;32m    118\u001b[0m \u001b[38;5;28;01mif\u001b[39;00m attr \u001b[38;5;241m==\u001b[39m \u001b[38;5;124m\"\u001b[39m\u001b[38;5;124m__bases__\u001b[39m\u001b[38;5;124m\"\u001b[39m:\n\u001b[0;32m    119\u001b[0m     \u001b[38;5;28;01mraise\u001b[39;00m \u001b[38;5;167;01mAttributeError\u001b[39;00m(\u001b[38;5;124m\"\u001b[39m\u001b[38;5;124mLazyCorpusLoader object has no attribute \u001b[39m\u001b[38;5;124m'\u001b[39m\u001b[38;5;124m__bases__\u001b[39m\u001b[38;5;124m'\u001b[39m\u001b[38;5;124m\"\u001b[39m)\n\u001b[1;32m--> 121\u001b[0m \u001b[38;5;28;43mself\u001b[39;49m\u001b[38;5;241;43m.\u001b[39;49m\u001b[43m__load\u001b[49m\u001b[43m(\u001b[49m\u001b[43m)\u001b[49m\n\u001b[0;32m    122\u001b[0m \u001b[38;5;66;03m# This looks circular, but its not, since __load() changes our\u001b[39;00m\n\u001b[0;32m    123\u001b[0m \u001b[38;5;66;03m# __class__ to something new:\u001b[39;00m\n\u001b[0;32m    124\u001b[0m \u001b[38;5;28;01mreturn\u001b[39;00m \u001b[38;5;28mgetattr\u001b[39m(\u001b[38;5;28mself\u001b[39m, attr)\n",
      "File \u001b[1;32m~\\anaconda3\\lib\\site-packages\\nltk\\corpus\\util.py:86\u001b[0m, in \u001b[0;36mLazyCorpusLoader.__load\u001b[1;34m(self)\u001b[0m\n\u001b[0;32m     84\u001b[0m             root \u001b[38;5;241m=\u001b[39m nltk\u001b[38;5;241m.\u001b[39mdata\u001b[38;5;241m.\u001b[39mfind(\u001b[38;5;124mf\u001b[39m\u001b[38;5;124m\"\u001b[39m\u001b[38;5;132;01m{\u001b[39;00m\u001b[38;5;28mself\u001b[39m\u001b[38;5;241m.\u001b[39msubdir\u001b[38;5;132;01m}\u001b[39;00m\u001b[38;5;124m/\u001b[39m\u001b[38;5;132;01m{\u001b[39;00mzip_name\u001b[38;5;132;01m}\u001b[39;00m\u001b[38;5;124m\"\u001b[39m)\n\u001b[0;32m     85\u001b[0m         \u001b[38;5;28;01mexcept\u001b[39;00m \u001b[38;5;167;01mLookupError\u001b[39;00m:\n\u001b[1;32m---> 86\u001b[0m             \u001b[38;5;28;01mraise\u001b[39;00m e\n\u001b[0;32m     88\u001b[0m \u001b[38;5;66;03m# Load the corpus.\u001b[39;00m\n\u001b[0;32m     89\u001b[0m corpus \u001b[38;5;241m=\u001b[39m \u001b[38;5;28mself\u001b[39m\u001b[38;5;241m.\u001b[39m__reader_cls(root, \u001b[38;5;241m*\u001b[39m\u001b[38;5;28mself\u001b[39m\u001b[38;5;241m.\u001b[39m__args, \u001b[38;5;241m*\u001b[39m\u001b[38;5;241m*\u001b[39m\u001b[38;5;28mself\u001b[39m\u001b[38;5;241m.\u001b[39m__kwargs)\n",
      "File \u001b[1;32m~\\anaconda3\\lib\\site-packages\\nltk\\corpus\\util.py:81\u001b[0m, in \u001b[0;36mLazyCorpusLoader.__load\u001b[1;34m(self)\u001b[0m\n\u001b[0;32m     79\u001b[0m \u001b[38;5;28;01melse\u001b[39;00m:\n\u001b[0;32m     80\u001b[0m     \u001b[38;5;28;01mtry\u001b[39;00m:\n\u001b[1;32m---> 81\u001b[0m         root \u001b[38;5;241m=\u001b[39m \u001b[43mnltk\u001b[49m\u001b[38;5;241;43m.\u001b[39;49m\u001b[43mdata\u001b[49m\u001b[38;5;241;43m.\u001b[39;49m\u001b[43mfind\u001b[49m\u001b[43m(\u001b[49m\u001b[38;5;124;43mf\u001b[39;49m\u001b[38;5;124;43m\"\u001b[39;49m\u001b[38;5;132;43;01m{\u001b[39;49;00m\u001b[38;5;28;43mself\u001b[39;49m\u001b[38;5;241;43m.\u001b[39;49m\u001b[43msubdir\u001b[49m\u001b[38;5;132;43;01m}\u001b[39;49;00m\u001b[38;5;124;43m/\u001b[39;49m\u001b[38;5;132;43;01m{\u001b[39;49;00m\u001b[38;5;28;43mself\u001b[39;49m\u001b[38;5;241;43m.\u001b[39;49m\u001b[43m__name\u001b[49m\u001b[38;5;132;43;01m}\u001b[39;49;00m\u001b[38;5;124;43m\"\u001b[39;49m\u001b[43m)\u001b[49m\n\u001b[0;32m     82\u001b[0m     \u001b[38;5;28;01mexcept\u001b[39;00m \u001b[38;5;167;01mLookupError\u001b[39;00m \u001b[38;5;28;01mas\u001b[39;00m e:\n\u001b[0;32m     83\u001b[0m         \u001b[38;5;28;01mtry\u001b[39;00m:\n",
      "File \u001b[1;32m~\\anaconda3\\lib\\site-packages\\nltk\\data.py:583\u001b[0m, in \u001b[0;36mfind\u001b[1;34m(resource_name, paths)\u001b[0m\n\u001b[0;32m    581\u001b[0m sep \u001b[38;5;241m=\u001b[39m \u001b[38;5;124m\"\u001b[39m\u001b[38;5;124m*\u001b[39m\u001b[38;5;124m\"\u001b[39m \u001b[38;5;241m*\u001b[39m \u001b[38;5;241m70\u001b[39m\n\u001b[0;32m    582\u001b[0m resource_not_found \u001b[38;5;241m=\u001b[39m \u001b[38;5;124mf\u001b[39m\u001b[38;5;124m\"\u001b[39m\u001b[38;5;130;01m\\n\u001b[39;00m\u001b[38;5;132;01m{\u001b[39;00msep\u001b[38;5;132;01m}\u001b[39;00m\u001b[38;5;130;01m\\n\u001b[39;00m\u001b[38;5;132;01m{\u001b[39;00mmsg\u001b[38;5;132;01m}\u001b[39;00m\u001b[38;5;130;01m\\n\u001b[39;00m\u001b[38;5;132;01m{\u001b[39;00msep\u001b[38;5;132;01m}\u001b[39;00m\u001b[38;5;130;01m\\n\u001b[39;00m\u001b[38;5;124m\"\u001b[39m\n\u001b[1;32m--> 583\u001b[0m \u001b[38;5;28;01mraise\u001b[39;00m \u001b[38;5;167;01mLookupError\u001b[39;00m(resource_not_found)\n",
      "\u001b[1;31mLookupError\u001b[0m: \n**********************************************************************\n  Resource \u001b[93mnames\u001b[0m not found.\n  Please use the NLTK Downloader to obtain the resource:\n\n  \u001b[31m>>> import nltk\n  >>> nltk.download('names')\n  \u001b[0m\n  For more information see: https://www.nltk.org/data.html\n\n  Attempted to load \u001b[93mcorpora/names\u001b[0m\n\n  Searched in:\n    - 'C:\\\\Users\\\\judyr/nltk_data'\n    - 'C:\\\\Users\\\\judyr\\\\anaconda3\\\\nltk_data'\n    - 'C:\\\\Users\\\\judyr\\\\anaconda3\\\\share\\\\nltk_data'\n    - 'C:\\\\Users\\\\judyr\\\\anaconda3\\\\lib\\\\nltk_data'\n    - 'C:\\\\Users\\\\judyr\\\\AppData\\\\Roaming\\\\nltk_data'\n    - 'C:\\\\nltk_data'\n    - 'D:\\\\nltk_data'\n    - 'E:\\\\nltk_data'\n**********************************************************************\n"
     ]
    }
   ],
   "source": [
    "import random\n",
    "labeled_names = ([(name, 'male') for name in names.words('male.txt')]+\n",
    "             [(name, 'female') for name in names.words('female.txt')])\n",
    "random.shuffle(labeled_names)"
   ]
  },
  {
   "cell_type": "code",
   "execution_count": null,
   "metadata": {},
   "outputs": [],
   "source": [
    "featuresets = [(gender_features(n), gender) \n",
    "               for (n, gender) in labeled_names]\n",
    "\n",
    "classifier = nltk.NaiveBayesClassifier.train(featuresets)"
   ]
  },
  {
   "cell_type": "code",
   "execution_count": null,
   "metadata": {},
   "outputs": [],
   "source": [
    "#test on a new name\n",
    "classifier.classify(gender_features('Trinity'))"
   ]
  },
  {
   "cell_type": "markdown",
   "metadata": {},
   "source": [
    "### Use Classifier to Classify Names in Credits Dataset"
   ]
  },
  {
   "cell_type": "code",
   "execution_count": null,
   "metadata": {},
   "outputs": [],
   "source": [
    "credits = pd.read_csv('data/credits.csv')\n",
    "credits.head()"
   ]
  },
  {
   "cell_type": "code",
   "execution_count": null,
   "metadata": {},
   "outputs": [],
   "source": [
    "# credits['gender'] = classifier.classify(gender_features(credits['name'].split()[0]))\n",
    "credits['gender'] = credits['name'].apply(lambda x : classifier.classify(gender_features(x.split()[0])))"
   ]
  },
  {
   "cell_type": "code",
   "execution_count": null,
   "metadata": {},
   "outputs": [],
   "source": [
    "credits.head(10)"
   ]
  },
  {
   "cell_type": "markdown",
   "metadata": {},
   "source": [
    "### Use Classifier on titles_and_credits"
   ]
  },
  {
   "cell_type": "code",
   "execution_count": null,
   "metadata": {},
   "outputs": [],
   "source": [
    "titles_and_credits = pd.read_csv('data/titles_and_credits.csv')\n",
    "titles_and_credits.head()"
   ]
  },
  {
   "cell_type": "code",
   "execution_count": null,
   "metadata": {},
   "outputs": [],
   "source": [
    "titles_and_credits['gender'] = titles_and_credits['name'].apply(\n",
    "    lambda x : classifier.classify(gender_features(x.split()[0])))"
   ]
  },
  {
   "cell_type": "code",
   "execution_count": null,
   "metadata": {},
   "outputs": [],
   "source": [
    "titles_and_credits.head()"
   ]
  },
  {
   "cell_type": "markdown",
   "metadata": {},
   "source": [
    "### Gender Proportion vs Popularity of Titles"
   ]
  },
  {
   "cell_type": "code",
   "execution_count": null,
   "metadata": {},
   "outputs": [],
   "source": [
    "#groupby title and calculate proportion of female names - by doing onehotencoding of gender, then take avg of male and female\n",
    "#for each title, create a separate observation for every genre that is listed\n",
    "#scatterplot of %female vs popularity"
   ]
  },
  {
   "cell_type": "code",
   "execution_count": null,
   "metadata": {},
   "outputs": [],
   "source": [
    "def prop_female(x):\n",
    "    gender_count = x['gender'].value_counts()\n",
    "    if (len(gender_count) == 2): #if there are females (all observations either have both M/F or only M names)\n",
    "        return gender_count[1] / (gender_count[0] + gender_count[1])\n",
    "    else: \n",
    "        return 0\n",
    "\n",
    "df_prop_female = titles_and_credits.groupby('id').apply(prop_female).to_frame(name = 'prop_female')"
   ]
  },
  {
   "cell_type": "code",
   "execution_count": null,
   "metadata": {},
   "outputs": [],
   "source": [
    "titles = pd.read_csv('data/titles_clean.csv')\n",
    "\n",
    "top_genres_mask = titles['genres'].apply(lambda x: ('drama' in x)  or ('comedy' in x) or ('thriller' in x) or ('action' in x) or ('romance' in x) or ('documentation' in x) or ('crime' in x))\n",
    "titles = titles[top_genres_mask]\n",
    "\n",
    "print(titles.shape)\n",
    "titles.head()"
   ]
  },
  {
   "cell_type": "code",
   "execution_count": null,
   "metadata": {},
   "outputs": [],
   "source": [
    "titles = pd.merge(titles, df_prop_female, on = 'id')\n",
    "print(titles.shape)\n",
    "titles.head()"
   ]
  },
  {
   "cell_type": "markdown",
   "metadata": {},
   "source": [
    "Making a dataframe for titles that include each of the 7 genres, and calculating descriptive stats for their prop_female and imdb_popularity columns."
   ]
  },
  {
   "cell_type": "code",
   "execution_count": null,
   "metadata": {},
   "outputs": [],
   "source": [
    "# df of shows or movies that included 'drama' as a genre label\n",
    "includes_drama_mask = titles['genres'].apply(lambda x: ('drama' in x))\n",
    "includes_drama = titles[includes_drama_mask] \n",
    "print(includes_drama.shape)\n",
    "# print(includes_drama.columns.values)\n",
    "# print(includes_drama[['tmdb_popularity', 'prop_female']])\n",
    "includes_drama.head()\n",
    "\n",
    "includes_drama[['tmdb_popularity', 'prop_female']].describe()\n",
    "includes_drama[['tmdb_popularity', 'prop_female']].median()\n",
    "\n",
    "\n",
    " # df of shows or movies that included 'comedy' as a genre label\n",
    "includes_comedy_mask = titles['genres'].apply(lambda x: ('comedy' in x))\n",
    "includes_comedy = titles[includes_comedy_mask]\n",
    "print(includes_comedy.shape)\n",
    "# print(includes_comedy.columns.values)\n",
    "# print(includes_comedy[['tmdb_popularity', 'prop_female']])\n",
    "includes_comedy.head()\n",
    "\n",
    "includes_comedy[['tmdb_popularity', 'prop_female']].describe()\n",
    "includes_comedy[['tmdb_popularity', 'prop_female']].median()\n",
    "\n",
    "\n",
    "# df of shows or movies that included 'thriller' as a genre label\n",
    "includes_thriller_mask = titles['genres'].apply(lambda x: ('thriller' in x))\n",
    "includes_thriller = titles[includes_thriller_mask]\n",
    "print(includes_thriller.shape)\n",
    "# print(includes_thriller.columns.values)\n",
    "# print(includes_thriller[['tmdb_popularity', 'prop_female']])\n",
    "includes_thriller.head()\n",
    "\n",
    "includes_thriller[['tmdb_popularity', 'prop_female']].describe()\n",
    "includes_thriller[['tmdb_popularity', 'prop_female']].median()\n",
    "\n",
    "\n",
    "# df of shows or movies that included 'action' as a genre label\n",
    "includes_action_mask = titles['genres'].apply(lambda x: ('action' in x))\n",
    "includes_action = titles[includes_action_mask]\n",
    "print(includes_action.shape)\n",
    "# print(includes_action.columns.values)\n",
    "# print(includes_action[['tmdb_popularity', 'prop_female']])\n",
    "includes_action.head()\n",
    "\n",
    "includes_action[['tmdb_popularity', 'prop_female']].describe()\n",
    "includes_action[['tmdb_popularity', 'prop_female']].median()\n",
    "\n",
    "\n",
    "# df of shows or movies that included 'romance' as a genre label\n",
    "includes_romance_mask = titles['genres'].apply(lambda x: ('romance' in x))\n",
    "includes_romance = titles[includes_romance_mask]\n",
    "print(includes_romance.shape)\n",
    "# print(includes_romance.columns.values)\n",
    "# print(includes_romance[['tmdb_popularity', 'prop_female']])\n",
    "includes_romance.head()\n",
    "\n",
    "includes_romance[['tmdb_popularity', 'prop_female']].describe()\n",
    "includes_romance[['tmdb_popularity', 'prop_female']].median()\n",
    "\n",
    "\n",
    "# df of shows or movies that included 'documentation' as a genre label\n",
    "includes_documentation_mask = titles['genres'].apply(lambda x: ('documentation' in x))\n",
    "includes_documentation = titles[includes_documentation_mask]\n",
    "print(includes_documentation.shape)\n",
    "# print(includes_documentation.columns.values)\n",
    "# print(includes_documentation[['tmdb_popularity', 'prop_female']])\n",
    "includes_documentation.head()\n",
    "\n",
    "includes_documentation[['tmdb_popularity', 'prop_female']].describe()\n",
    "includes_documentation[['tmdb_popularity', 'prop_female']].median()\n",
    "\n",
    "\n",
    "# df of shows or movies that included 'crime' as a genre label\n",
    "includes_crime_mask = titles['genres'].apply(lambda x: ('crime' in x))\n",
    "includes_crime = titles[includes_crime_mask]\n",
    "print(includes_crime.shape)\n",
    "# print(includes_crime.columns.values)\n",
    "# print(includes_crime[['tmdb_popularity', 'prop_female']])\n",
    "includes_crime.head()\n",
    "\n",
    "includes_crime[['tmdb_popularity', 'prop_female']].describe()\n",
    "includes_crime[['tmdb_popularity', 'prop_female']].median()"
   ]
  },
  {
   "cell_type": "code",
   "execution_count": null,
   "metadata": {},
   "outputs": [],
   "source": [
    "sns.catplot(data = includes_drama, x = \"gender\", y = \"tmdb_popularity\", kind = \"bar\")\n",
    "sns.catplot(data = includes_comedy, x = \"gender\", y = \"tmdb_popularity\", kind = \"bar\")\n",
    "sns.catplot(data = includes_thriller, x = \"gender\", y = \"tmdb_popularity\", kind = \"bar\")\n",
    "sns.catplot(data = includes_action, x = \"gender\", y = \"tmdb_popularity\", kind = \"bar\")\n",
    "sns.catplot(data = includes_romance, x = \"gender\", y = \"tmdb_popularity\", kind = \"bar\")\n",
    "sns.catplot(data = includes_documentation, x = \"gender\", y = \"tmdb_popularity\", kind = \"bar\")\n",
    "sns.catplot(data = includes_crime, x = \"gender\", y = \"tmdb_popularity\", kind = \"bar\")"
   ]
  },
  {
   "cell_type": "code",
   "execution_count": null,
   "metadata": {},
   "outputs": [],
   "source": []
  },
  {
   "cell_type": "code",
   "execution_count": null,
   "metadata": {},
   "outputs": [],
   "source": []
  }
 ],
 "metadata": {
  "kernelspec": {
   "display_name": "Python 3 (ipykernel)",
   "language": "python",
   "name": "python3"
  },
  "language_info": {
   "codemirror_mode": {
    "name": "ipython",
    "version": 3
   },
   "file_extension": ".py",
   "mimetype": "text/x-python",
   "name": "python",
   "nbconvert_exporter": "python",
   "pygments_lexer": "ipython3",
   "version": "3.9.12"
  }
 },
 "nbformat": 4,
 "nbformat_minor": 4
}
